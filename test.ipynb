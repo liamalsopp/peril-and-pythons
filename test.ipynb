{
 "cells": [
  {
   "cell_type": "code",
   "execution_count": 9,
   "metadata": {},
   "outputs": [],
   "source": [
    "import requests\n",
    "import json\n",
    "\n",
    "base_api = \"https://www.dnd5eapi.co/api/\"\n",
    "resp = requests.get(f\"{base_api}classes/\")\n",
    "classes = json.loads(resp.text)"
   ]
  },
  {
   "cell_type": "code",
   "execution_count": 10,
   "metadata": {},
   "outputs": [
    {
     "name": "stdout",
     "output_type": "stream",
     "text": [
      "Barbarian\n",
      "Bard\n",
      "Cleric\n",
      "Druid\n",
      "Fighter\n",
      "Monk\n",
      "Paladin\n",
      "Ranger\n",
      "Rogue\n",
      "Sorcerer\n",
      "Warlock\n",
      "Wizard\n"
     ]
    }
   ],
   "source": [
    "for i in classes['results']:\n",
    "    print(i['name'])"
   ]
  },
  {
   "cell_type": "code",
   "execution_count": null,
   "metadata": {},
   "outputs": [],
   "source": []
  }
 ],
 "metadata": {
  "kernelspec": {
   "display_name": ".peril_and_pythons",
   "language": "python",
   "name": "python3"
  },
  "language_info": {
   "codemirror_mode": {
    "name": "ipython",
    "version": 3
   },
   "file_extension": ".py",
   "mimetype": "text/x-python",
   "name": "python",
   "nbconvert_exporter": "python",
   "pygments_lexer": "ipython3",
   "version": "3.10.11"
  },
  "orig_nbformat": 4
 },
 "nbformat": 4,
 "nbformat_minor": 2
}
