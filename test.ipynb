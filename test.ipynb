{
 "cells": [
  {
   "cell_type": "code",
   "execution_count": null,
   "metadata": {},
   "outputs": [],
   "source": [
    "import random\n",
    "\n",
    "def roll_d6():\n",
    "    rolled_number = random.randint(1,6)\n",
    "    return rolled_number\n",
    "\n",
    "stats = [\n",
    "\"strength\",\n",
    "\"charisma\",\n",
    "\"intelligence\",\n",
    "\"wisdom\",\n",
    "\"constitution\",\n",
    "\"dexterity\"\n",
    "]\n",
    "\n",
    "points = []\n",
    "for i in stats:\n",
    "    rolls = []\n",
    "    for j in range(4):\n",
    "        rolls.append(roll_d6())\n",
    "    rolls.sort(reverse=True)\n",
    "    point = 0\n",
    "    for j in rolls:\n",
    "        point += j\n",
    "        if rolls.index(j) == 3:\n",
    "            break\n",
    "    points.append(point)\n",
    "print(points)\n"
   ]
  },
  {
   "cell_type": "code",
   "execution_count": null,
   "metadata": {},
   "outputs": [],
   "source": [
    "import requests\n",
    "import json\n",
    "\n",
    "base_api = \"https://www.dnd5eapi.co/api/\"\n",
    "resp = requests.get(f\"{base_api}classes/\")\n",
    "classes = json.loads(resp.text)"
   ]
  },
  {
   "cell_type": "code",
   "execution_count": null,
   "metadata": {},
   "outputs": [],
   "source": [
    "for i in classes['results']:\n",
    "    print(i['name'])"
   ]
  },
  {
   "cell_type": "code",
   "execution_count": null,
   "metadata": {},
   "outputs": [],
   "source": []
  }
 ],
 "metadata": {
  "kernelspec": {
   "display_name": ".peril_and_pythons",
   "language": "python",
   "name": "python3"
  },
  "language_info": {
   "codemirror_mode": {
    "name": "ipython",
    "version": 3
   },
   "file_extension": ".py",
   "mimetype": "text/x-python",
   "name": "python",
   "nbconvert_exporter": "python",
   "pygments_lexer": "ipython3",
   "version": "3.10.11"
  },
  "orig_nbformat": 4
 },
 "nbformat": 4,
 "nbformat_minor": 2
}
